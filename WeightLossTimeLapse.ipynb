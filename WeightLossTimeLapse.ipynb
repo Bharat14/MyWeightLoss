{
 "cells": [
  {
   "cell_type": "code",
   "execution_count": 8,
   "metadata": {},
   "outputs": [
    {
     "data": {
      "text/html": [
       "        <script type=\"text/javascript\">\n",
       "        window.PlotlyConfig = {MathJaxConfig: 'local'};\n",
       "        if (window.MathJax) {MathJax.Hub.Config({SVG: {font: \"STIX-Web\"}});}\n",
       "        if (typeof require !== 'undefined') {\n",
       "        require.undef(\"plotly\");\n",
       "        requirejs.config({\n",
       "            paths: {\n",
       "                'plotly': ['https://cdn.plot.ly/plotly-latest.min']\n",
       "            }\n",
       "        });\n",
       "        require(['plotly'], function(Plotly) {\n",
       "            window._Plotly = Plotly;\n",
       "        });\n",
       "        }\n",
       "        </script>\n",
       "        "
      ]
     },
     "metadata": {},
     "output_type": "display_data"
    }
   ],
   "source": [
    "import matplotlib.pyplot as plt\n",
    "import seaborn as sns\n",
    "import numpy as np\n",
    "import pandas as pd\n",
    "import plotly.plotly as py\n",
    "import cufflinks as cf\n",
    "cf.go_offline()"
   ]
  },
  {
   "cell_type": "code",
   "execution_count": 9,
   "metadata": {},
   "outputs": [
    {
     "name": "stdout",
     "output_type": "stream",
     "text": [
      "To maintain weight:  104.9 kg, need:  2757.3129375000003 cals\n",
      "Months to achieve the target 7 months\n"
     ]
    }
   ],
   "source": [
    "age = 21\n",
    "weight = 104.9\n",
    "height = 66.5\n",
    "\n",
    "AIM = 77            # Aim Goal\n",
    "\n",
    "#for men\n",
    "very_light = 1.2    # little to no exercise\n",
    "light = 1.375       # light morning walks...\n",
    "moderate = 1.55     # running\n",
    "very_active = 1.7   # physical work all day\n",
    "extreme = 1.9       # very high activity... free runners...gymnasts\n",
    "\n",
    "\n",
    "daily_cals = 1700  # daily calories intake\n",
    "kg = 7777.77777    # 1 kg = 7777.77... Calories\n",
    "\n",
    "def bmr_men(age, weight, height):\n",
    "    return (5 + (9.99*weight) + (6.25*height*2.54) - (4.92*age))\n",
    "\n",
    "def bmr_women(age, weight, height):\n",
    "    return ((9.99*weight) + (6.25*height*2.54) - (4.92*age) - 161)\n",
    "\n",
    "def maintain_weight_calories(bmr_cals, mode = 1.5):\n",
    "    return mode*bmr_cals\n",
    "\n",
    "my_bmr = bmr_men(age, weight, height)\n",
    "maintain_cals = maintain_weight_calories(my_bmr, light)\n",
    "print('To maintain weight: ', weight,\"kg, need: \",maintain_cals,'cals')\n",
    "\n",
    "weight_loss_kg = []\n",
    "weeks = 0\n",
    "weight_loss_rate = []\n",
    "\n",
    "w = weight\n",
    "while w>=AIM:\n",
    "    maintain_cals = maintain_weight_calories(bmr_men(age, w, height), moderate)\n",
    "    perweek_loss = (maintain_cals - daily_cals)*7\n",
    "    w = w - (perweek_loss/kg)\n",
    "    weight_loss_kg.append(w)\n",
    "    weight_loss_rate.append(perweek_loss/kg)\n",
    "    weeks += 1\n",
    "    \n",
    "df = pd.DataFrame()\n",
    "df['weight/week'] = np.array(weight_loss_kg)\n",
    "df['loss_rate'] = np.array(weight_loss_rate)\n",
    "df['week'] = np.arange(weeks)\n",
    "print('Months to achieve the target', int(weeks*7/30)+1, 'months')"
   ]
  },
  {
   "cell_type": "code",
   "execution_count": 10,
   "metadata": {},
   "outputs": [
    {
     "data": {
      "application/vnd.plotly.v1+json": {
       "config": {
        "linkText": "Export to plot.ly",
        "plotlyServerURL": "https://plot.ly",
        "showLink": true
       },
       "data": [
        {
         "line": {
          "color": "rgba(255, 153, 51, 1.0)",
          "dash": "solid",
          "shape": "linear",
          "width": 1.3
         },
         "mode": "lines",
         "name": "loss_rate",
         "text": "",
         "type": "scatter",
         "uid": "bdc3cefe-a4e1-4410-9535-437a2efa8561",
         "x": [
          0,
          1,
          2,
          3,
          4,
          5,
          6,
          7,
          8,
          9,
          10,
          11,
          12,
          13,
          14,
          15,
          16,
          17,
          18,
          19,
          20,
          21,
          22,
          23,
          24,
          25,
          26
         ],
         "y": [
          1.2674193087674195,
          1.2497564898918092,
          1.2323398209434353,
          1.2151658715646025,
          1.1982312592032502,
          1.181532648446732,
          1.16506675036488,
          1.148830321862221,
          1.132820165039223,
          1.117033126562441,
          1.101466097043443,
          1.0861160104263907,
          1.0709798433841522,
          1.0560546147228331,
          1.0413373847946077,
          1.0268252549187284,
          1.0125153668106082,
          0.9984049020188572,
          0.9844910813701635,
          0.9707711644219148,
          0.957242448922444,
          0.9439022702787978,
          0.9307480010319248,
          0.9177770503391727,
          0.9049868634640037,
          0.8923749212728144,
          0.8799387397387738
         ]
        }
       ],
       "layout": {
        "legend": {
         "bgcolor": "#F5F6F9",
         "font": {
          "color": "#4D5663"
         }
        },
        "paper_bgcolor": "#F5F6F9",
        "plot_bgcolor": "#F5F6F9",
        "title": {
         "font": {
          "color": "#4D5663"
         }
        },
        "xaxis": {
         "gridcolor": "#E1E5ED",
         "showgrid": true,
         "tickfont": {
          "color": "#4D5663"
         },
         "title": {
          "font": {
           "color": "#4D5663"
          },
          "text": "week"
         },
         "zerolinecolor": "#E1E5ED"
        },
        "yaxis": {
         "gridcolor": "#E1E5ED",
         "showgrid": true,
         "tickfont": {
          "color": "#4D5663"
         },
         "title": {
          "font": {
           "color": "#4D5663"
          },
          "text": "Loss Rate per week"
         },
         "zerolinecolor": "#E1E5ED"
        }
       }
      },
      "text/html": [
       "<div>\n",
       "        \n",
       "        \n",
       "            <div id=\"66eaa79d-9478-450d-b720-48b7779a3982\" class=\"plotly-graph-div\" style=\"height:525px; width:100%;\"></div>\n",
       "            <script type=\"text/javascript\">\n",
       "                require([\"plotly\"], function(Plotly) {\n",
       "                    window.PLOTLYENV=window.PLOTLYENV || {};\n",
       "                    window.PLOTLYENV.BASE_URL='https://plot.ly';\n",
       "                    \n",
       "                if (document.getElementById(\"66eaa79d-9478-450d-b720-48b7779a3982\")) {\n",
       "                    Plotly.newPlot(\n",
       "                        '66eaa79d-9478-450d-b720-48b7779a3982',\n",
       "                        [{\"line\": {\"color\": \"rgba(255, 153, 51, 1.0)\", \"dash\": \"solid\", \"shape\": \"linear\", \"width\": 1.3}, \"mode\": \"lines\", \"name\": \"loss_rate\", \"text\": \"\", \"type\": \"scatter\", \"uid\": \"bdc3cefe-a4e1-4410-9535-437a2efa8561\", \"x\": [0, 1, 2, 3, 4, 5, 6, 7, 8, 9, 10, 11, 12, 13, 14, 15, 16, 17, 18, 19, 20, 21, 22, 23, 24, 25, 26], \"y\": [1.2674193087674195, 1.2497564898918092, 1.2323398209434353, 1.2151658715646025, 1.1982312592032502, 1.181532648446732, 1.16506675036488, 1.148830321862221, 1.132820165039223, 1.117033126562441, 1.101466097043443, 1.0861160104263907, 1.0709798433841522, 1.0560546147228331, 1.0413373847946077, 1.0268252549187284, 1.0125153668106082, 0.9984049020188572, 0.9844910813701635, 0.9707711644219148, 0.957242448922444, 0.9439022702787978, 0.9307480010319248, 0.9177770503391727, 0.9049868634640037, 0.8923749212728144, 0.8799387397387738]}],\n",
       "                        {\"legend\": {\"bgcolor\": \"#F5F6F9\", \"font\": {\"color\": \"#4D5663\"}}, \"paper_bgcolor\": \"#F5F6F9\", \"plot_bgcolor\": \"#F5F6F9\", \"title\": {\"font\": {\"color\": \"#4D5663\"}}, \"xaxis\": {\"gridcolor\": \"#E1E5ED\", \"showgrid\": true, \"tickfont\": {\"color\": \"#4D5663\"}, \"title\": {\"font\": {\"color\": \"#4D5663\"}, \"text\": \"week\"}, \"zerolinecolor\": \"#E1E5ED\"}, \"yaxis\": {\"gridcolor\": \"#E1E5ED\", \"showgrid\": true, \"tickfont\": {\"color\": \"#4D5663\"}, \"title\": {\"font\": {\"color\": \"#4D5663\"}, \"text\": \"Loss Rate per week\"}, \"zerolinecolor\": \"#E1E5ED\"}},\n",
       "                        {\"showLink\": true, \"linkText\": \"Export to plot.ly\", \"plotlyServerURL\": \"https://plot.ly\", \"responsive\": true}\n",
       "                    ).then(function(){\n",
       "                            \n",
       "var gd = document.getElementById('66eaa79d-9478-450d-b720-48b7779a3982');\n",
       "var x = new MutationObserver(function (mutations, observer) {{\n",
       "        var display = window.getComputedStyle(gd).display;\n",
       "        if (!display || display === 'none') {{\n",
       "            console.log([gd, 'removed!']);\n",
       "            Plotly.purge(gd);\n",
       "            observer.disconnect();\n",
       "        }}\n",
       "}});\n",
       "\n",
       "// Listen for the removal of the full notebook cells\n",
       "var notebookContainer = gd.closest('#notebook-container');\n",
       "if (notebookContainer) {{\n",
       "    x.observe(notebookContainer, {childList: true});\n",
       "}}\n",
       "\n",
       "// Listen for the clearing of the current output cell\n",
       "var outputEl = gd.closest('.output');\n",
       "if (outputEl) {{\n",
       "    x.observe(outputEl, {childList: true});\n",
       "}}\n",
       "\n",
       "                        })\n",
       "                };\n",
       "                });\n",
       "            </script>\n",
       "        </div>"
      ]
     },
     "metadata": {},
     "output_type": "display_data"
    },
    {
     "data": {
      "application/vnd.plotly.v1+json": {
       "config": {
        "linkText": "Export to plot.ly",
        "plotlyServerURL": "https://plot.ly",
        "showLink": true
       },
       "data": [
        {
         "line": {
          "color": "rgba(255, 153, 51, 1.0)",
          "dash": "solid",
          "shape": "linear",
          "width": 1.3
         },
         "mode": "lines",
         "name": "weight/week",
         "text": "",
         "type": "scatter",
         "uid": "d849b708-84d8-48c4-8764-463050ca91f7",
         "x": [
          0,
          1,
          2,
          3,
          4,
          5,
          6,
          7,
          8,
          9,
          10,
          11,
          12,
          13,
          14,
          15,
          16,
          17,
          18,
          19,
          20,
          21,
          22,
          23,
          24,
          25,
          26
         ],
         "y": [
          103.63258069123259,
          102.38282420134078,
          101.15048438039734,
          99.93531850883274,
          98.73708724962948,
          97.55555460118275,
          96.39048785081786,
          95.24165752895564,
          94.10883736391642,
          92.99180423735397,
          91.89033814031053,
          90.80422212988414,
          89.73324228649999,
          88.67718767177715,
          87.63585028698255,
          86.60902503206381,
          85.59650966525321,
          84.59810476323435,
          83.61361368186418,
          82.64284251744226,
          81.68560006851982,
          80.74169779824102,
          79.81094979720909,
          78.89317274686992,
          77.98818588340592,
          77.0958109621331,
          76.21587222239432
         ]
        }
       ],
       "layout": {
        "legend": {
         "bgcolor": "#F5F6F9",
         "font": {
          "color": "#4D5663"
         }
        },
        "paper_bgcolor": "#F5F6F9",
        "plot_bgcolor": "#F5F6F9",
        "title": {
         "font": {
          "color": "#4D5663"
         }
        },
        "xaxis": {
         "gridcolor": "#E1E5ED",
         "showgrid": true,
         "tickfont": {
          "color": "#4D5663"
         },
         "title": {
          "font": {
           "color": "#4D5663"
          },
          "text": "week"
         },
         "zerolinecolor": "#E1E5ED"
        },
        "yaxis": {
         "gridcolor": "#E1E5ED",
         "showgrid": true,
         "tickfont": {
          "color": "#4D5663"
         },
         "title": {
          "font": {
           "color": "#4D5663"
          },
          "text": "Weight (kg)"
         },
         "zerolinecolor": "#E1E5ED"
        }
       }
      },
      "text/html": [
       "<div>\n",
       "        \n",
       "        \n",
       "            <div id=\"18b2355d-b7e1-4fa9-b33c-546256d0b5bc\" class=\"plotly-graph-div\" style=\"height:525px; width:100%;\"></div>\n",
       "            <script type=\"text/javascript\">\n",
       "                require([\"plotly\"], function(Plotly) {\n",
       "                    window.PLOTLYENV=window.PLOTLYENV || {};\n",
       "                    window.PLOTLYENV.BASE_URL='https://plot.ly';\n",
       "                    \n",
       "                if (document.getElementById(\"18b2355d-b7e1-4fa9-b33c-546256d0b5bc\")) {\n",
       "                    Plotly.newPlot(\n",
       "                        '18b2355d-b7e1-4fa9-b33c-546256d0b5bc',\n",
       "                        [{\"line\": {\"color\": \"rgba(255, 153, 51, 1.0)\", \"dash\": \"solid\", \"shape\": \"linear\", \"width\": 1.3}, \"mode\": \"lines\", \"name\": \"weight/week\", \"text\": \"\", \"type\": \"scatter\", \"uid\": \"d849b708-84d8-48c4-8764-463050ca91f7\", \"x\": [0, 1, 2, 3, 4, 5, 6, 7, 8, 9, 10, 11, 12, 13, 14, 15, 16, 17, 18, 19, 20, 21, 22, 23, 24, 25, 26], \"y\": [103.63258069123259, 102.38282420134078, 101.15048438039734, 99.93531850883274, 98.73708724962948, 97.55555460118275, 96.39048785081786, 95.24165752895564, 94.10883736391642, 92.99180423735397, 91.89033814031053, 90.80422212988414, 89.73324228649999, 88.67718767177715, 87.63585028698255, 86.60902503206381, 85.59650966525321, 84.59810476323435, 83.61361368186418, 82.64284251744226, 81.68560006851982, 80.74169779824102, 79.81094979720909, 78.89317274686992, 77.98818588340592, 77.0958109621331, 76.21587222239432]}],\n",
       "                        {\"legend\": {\"bgcolor\": \"#F5F6F9\", \"font\": {\"color\": \"#4D5663\"}}, \"paper_bgcolor\": \"#F5F6F9\", \"plot_bgcolor\": \"#F5F6F9\", \"title\": {\"font\": {\"color\": \"#4D5663\"}}, \"xaxis\": {\"gridcolor\": \"#E1E5ED\", \"showgrid\": true, \"tickfont\": {\"color\": \"#4D5663\"}, \"title\": {\"font\": {\"color\": \"#4D5663\"}, \"text\": \"week\"}, \"zerolinecolor\": \"#E1E5ED\"}, \"yaxis\": {\"gridcolor\": \"#E1E5ED\", \"showgrid\": true, \"tickfont\": {\"color\": \"#4D5663\"}, \"title\": {\"font\": {\"color\": \"#4D5663\"}, \"text\": \"Weight (kg)\"}, \"zerolinecolor\": \"#E1E5ED\"}},\n",
       "                        {\"showLink\": true, \"linkText\": \"Export to plot.ly\", \"plotlyServerURL\": \"https://plot.ly\", \"responsive\": true}\n",
       "                    ).then(function(){\n",
       "                            \n",
       "var gd = document.getElementById('18b2355d-b7e1-4fa9-b33c-546256d0b5bc');\n",
       "var x = new MutationObserver(function (mutations, observer) {{\n",
       "        var display = window.getComputedStyle(gd).display;\n",
       "        if (!display || display === 'none') {{\n",
       "            console.log([gd, 'removed!']);\n",
       "            Plotly.purge(gd);\n",
       "            observer.disconnect();\n",
       "        }}\n",
       "}});\n",
       "\n",
       "// Listen for the removal of the full notebook cells\n",
       "var notebookContainer = gd.closest('#notebook-container');\n",
       "if (notebookContainer) {{\n",
       "    x.observe(notebookContainer, {childList: true});\n",
       "}}\n",
       "\n",
       "// Listen for the clearing of the current output cell\n",
       "var outputEl = gd.closest('.output');\n",
       "if (outputEl) {{\n",
       "    x.observe(outputEl, {childList: true});\n",
       "}}\n",
       "\n",
       "                        })\n",
       "                };\n",
       "                });\n",
       "            </script>\n",
       "        </div>"
      ]
     },
     "metadata": {},
     "output_type": "display_data"
    }
   ],
   "source": [
    "df.iplot(x='week', y='loss_rate', \n",
    "         xTitle='week',\n",
    "         yTitle='Loss Rate per week')\n",
    "df.iplot(x='week', y='weight/week', \n",
    "         xTitle='week',\n",
    "         yTitle='Weight (kg)')"
   ]
  },
  {
   "cell_type": "code",
   "execution_count": null,
   "metadata": {},
   "outputs": [],
   "source": []
  }
 ],
 "metadata": {
  "kernelspec": {
   "display_name": "Python 3",
   "language": "python",
   "name": "python3"
  },
  "language_info": {
   "codemirror_mode": {
    "name": "ipython",
    "version": 3
   },
   "file_extension": ".py",
   "mimetype": "text/x-python",
   "name": "python",
   "nbconvert_exporter": "python",
   "pygments_lexer": "ipython3",
   "version": "3.7.3"
  }
 },
 "nbformat": 4,
 "nbformat_minor": 2
}
